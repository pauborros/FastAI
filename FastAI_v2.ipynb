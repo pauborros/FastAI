{
 "cells": [
  {
   "cell_type": "code",
   "execution_count": 7,
   "metadata": {},
   "outputs": [],
   "source": [
    "import ipywidgets as widgets\n",
    "from fastai.vision.all import *\n",
    "from fastai.vision.widgets import *"
   ]
  },
  {
   "cell_type": "markdown",
   "metadata": {},
   "source": [
    "\n",
    "<h1  align =\"center\"> <font color='#0096c8' size='12px'> Clasificador de billetes </h1>\n",
    "\n",
    "<h2 align='center'> <font color='#000000' size='5px'> Banc Sabadell - HUB Analytics </h2>\n",
    "\n"
   ]
  },
  {
   "cell_type": "code",
   "execution_count": null,
   "metadata": {},
   "outputs": [],
   "source": [
    "path = Path()\n",
    "learn_inf = load_learner(path/'bill_model.pkl', cpu=True)"
   ]
  },
  {
   "cell_type": "code",
   "execution_count": null,
   "metadata": {},
   "outputs": [],
   "source": [
    "from ipywidgets import AppLayout, Button, Layout\n",
    "from ipywidgets import Button, Layout, jslink, IntText, IntSlider\n",
    "\n",
    "out_pl = widgets.Output()\n",
    "out_pl.clear_output()\n",
    "\n",
    "lbl_pred = widgets.Label(layout=Layout(display=\"flex\", justify_content=\"flex-start\"))\n",
    "\n",
    "lbl_prob = widgets.Label(layout=Layout(display=\"flex\", justify_content=\"flex-start\"))\n",
    "\n",
    "btn_run = widgets.Button(description = 'Classify',button_style='success', layout=Layout(height='auto', width='20%',align='center'))\n",
    "btn_run.style.button_color='#0096c8'\n",
    "\n",
    "dicc = {'5 euro bill':'Es un billete de 5€!', '10 euro bill':'Es un billete de 10€!', '20 euro bill':'Es un billete de 20€!',\n",
    "       '50 euro bill':'Es un billete de 50€!','100 euro bill':'Es un billete de 100€!',\n",
    "       '200 euro bill':'Es un billete de 200€! Felicidades, no son muy comunes!'}\n",
    "\n",
    "def on_click_classify(change):\n",
    "    img = PILImage.create(btn_upload.data[-1])\n",
    "    out_pl.clear_output()\n",
    "    with out_pl: display(img.to_thumb(300,300))\n",
    "    pred,pred_idx,probs = learn_inf.predict(img)\n",
    "    lbl_pred.value = f'Predicción: {dicc[pred]}'\n",
    "    prob=probs[pred_idx]*100\n",
    "    lbl_prob.value = f'Probabilidad: {prob:.01f}%'\n",
    "\n",
    "btn_run.on_click(on_click_classify)\n",
    "\n",
    "btn_upload = widgets.FileUpload(description='Subir una imagen', layout=Layout(height='auto', width='20%',align='center'))\n",
    "btn_upload.style.font_size = '#12px'\n",
    "\n",
    "box_layout = widgets.Layout(display='flex',\n",
    "                flex_flow='column',\n",
    "                align_items='center',\n",
    "                width='100%',\n",
    "                margin='0 0 0 0')\n",
    "box = widgets.HBox(children=[widgets.Label('Select una foto de tus billetes y el modelo va a predecir de qué billete se trata!'), \n",
    "                             btn_upload, btn_run, out_pl, lbl_pred,lbl_prob],layout=box_layout, grid_gap=\"10px\")\n",
    "display(box)"
   ]
  },
  {
   "cell_type": "code",
   "execution_count": null,
   "metadata": {},
   "outputs": [],
   "source": [
    "def on_data_change(change):\n",
    "    lbl_pred.value = ''\n",
    "    lbl_prob.value = ''\n",
    "    img = PILImage.create(btn_upload.data[-1])\n",
    "    out_pl.clear_output()\n",
    "    #with out_pl: display(img.to_thumb(128,128))\n",
    "    #pred,pred_idx,probs = learn_inf.predict(img)\n",
    "    #lbl_pred.value = f'Prediction: {pred}; Probability: {probs[pred_idx]:.04f}'"
   ]
  },
  {
   "cell_type": "code",
   "execution_count": null,
   "metadata": {},
   "outputs": [],
   "source": [
    "btn_upload.observe(on_data_change, names=['data'])"
   ]
  },
  {
   "cell_type": "code",
   "execution_count": null,
   "metadata": {},
   "outputs": [],
   "source": [
    "#display(VBox([widgets.Label('Selecciona la imagen que quieres clasificar!'), btn_upload, out_pl, lbl_pred]))"
   ]
  },
  {
   "cell_type": "code",
   "execution_count": null,
   "metadata": {},
   "outputs": [],
   "source": []
  }
 ],
 "metadata": {
  "kernelspec": {
   "display_name": "Python 3",
   "language": "python",
   "name": "python3"
  },
  "language_info": {
   "codemirror_mode": {
    "name": "ipython",
    "version": 3
   },
   "file_extension": ".py",
   "mimetype": "text/x-python",
   "name": "python",
   "nbconvert_exporter": "python",
   "pygments_lexer": "ipython3",
   "version": "3.8.5"
  }
 },
 "nbformat": 4,
 "nbformat_minor": 4
}
